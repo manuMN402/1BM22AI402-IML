{
  "nbformat": 4,
  "nbformat_minor": 0,
  "metadata": {
    "colab": {
      "provenance": [],
      "authorship_tag": "ABX9TyPrfwe/GDhgbjA6NB4cGJzO",
      "include_colab_link": true
    },
    "kernelspec": {
      "name": "python3",
      "display_name": "Python 3"
    },
    "language_info": {
      "name": "python"
    }
  },
  "cells": [
    {
      "cell_type": "markdown",
      "metadata": {
        "id": "view-in-github",
        "colab_type": "text"
      },
      "source": [
        "<a href=\"https://colab.research.google.com/github/manuMN402/1BM22AI402-IML/blob/main/Untitled32.ipynb\" target=\"_parent\"><img src=\"https://colab.research.google.com/assets/colab-badge.svg\" alt=\"Open In Colab\"/></a>"
      ]
    },
    {
      "cell_type": "markdown",
      "source": [
        "4.SVM"
      ],
      "metadata": {
        "id": "Byj-kN-hIk8z"
      }
    },
    {
      "cell_type": "code",
      "source": [
        "import pandas as pd\n",
        "from sklearn.model_selection import train_test_split\n",
        "from sklearn.svm import SVC\n",
        "from sklearn.preprocessing import StandardScaler\n",
        "from sklearn.metrics import accuracy_score\n",
        "\n",
        "data=pd.read_csv('/content/iris (2) final (1).csv')\n",
        "\n",
        "x=data.iloc[:,:-1]\n",
        "y=data.iloc[:,-1]\n",
        "\n",
        "x=StandardScaler().fit_transform(x)\n",
        "\n",
        "x_train, x_test, y_train, y_test = train_test_split(x,y,test_size=0.2, random_state=42)\n",
        "\n",
        "clf = SVC(kernel='rbf')\n",
        "\n",
        "model = clf.fit(x_train, y_train)\n",
        "\n",
        "prediction = model.predict(x_test)\n",
        "\n",
        "accuracy = accuracy_score(prediction, y_test)\n",
        "\n",
        "print(accuracy)\n",
        "x_train, x_test, y_train, y_test = train_test_split(x,y,test_size=0.2, random_state=42)\n",
        "\n",
        "clf = SVC(kernel='linear')\n",
        "\n",
        "model = clf.fit(x_train, y_train)\n",
        "\n",
        "prediction = model.predict(x_test)\n",
        "\n",
        "accuracy = accuracy_score(prediction, y_test)\n",
        "\n",
        "print(accuracy)"
      ],
      "metadata": {
        "colab": {
          "base_uri": "https://localhost:8080/"
        },
        "id": "Qcx0amLOLOAL",
        "outputId": "e4e7ccb2-49ce-49b5-ae47-38b05bd4c186"
      },
      "execution_count": 10,
      "outputs": [
        {
          "output_type": "stream",
          "name": "stdout",
          "text": [
            "1.0\n",
            "0.9666666666666667\n"
          ]
        }
      ]
    }
  ]
}