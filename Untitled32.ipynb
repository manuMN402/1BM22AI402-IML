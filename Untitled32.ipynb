{
  "nbformat": 4,
  "nbformat_minor": 0,
  "metadata": {
    "colab": {
      "provenance": [],
      "authorship_tag": "ABX9TyOaQFDNapWTvxhc1JW74vwM",
      "include_colab_link": true
    },
    "kernelspec": {
      "name": "python3",
      "display_name": "Python 3"
    },
    "language_info": {
      "name": "python"
    }
  },
  "cells": [
    {
      "cell_type": "markdown",
      "metadata": {
        "id": "view-in-github",
        "colab_type": "text"
      },
      "source": [
        "<a href=\"https://colab.research.google.com/github/manuMN402/1BM22AI402-IML/blob/main/Untitled32.ipynb\" target=\"_parent\"><img src=\"https://colab.research.google.com/assets/colab-badge.svg\" alt=\"Open In Colab\"/></a>"
      ]
    },
    {
      "cell_type": "markdown",
      "source": [
        "1.FIND-S"
      ],
      "metadata": {
        "id": "Byj-kN-hIk8z"
      }
    },
    {
      "cell_type": "code",
      "execution_count": 2,
      "metadata": {
        "colab": {
          "base_uri": "https://localhost:8080/"
        },
        "id": "mDXDIKgpIjn2",
        "outputId": "b5298eed-ad8e-45a1-e843-b8ab1400e261"
      },
      "outputs": [
        {
          "output_type": "stream",
          "name": "stdout",
          "text": [
            "[['sunny', 'warm', 'normal', 'strong', 'warm', 'same', 'yes'], ['sunny', 'warm', 'high', 'strong', 'warm', 'same', 'yes'], ['rainy', 'cold', 'high', 'strong', 'warm', 'change', 'no'], ['sunny', 'warm', 'high', 'strong', 'cool', 'change', 'yes']]\n",
            "\n",
            "The total number of training instances are :  4\n",
            "\n",
            "The initial hypothesis is : \n",
            "['0', '0', '0', '0', '0', '0']\n",
            "\n",
            "Instance  1 is ['sunny', 'warm', 'normal', 'strong', 'warm', 'same', 'yes']  and is Positive Instance\n",
            "The hypothesis for the training instance 1  is:  ['sunny', 'warm', 'normal', 'strong', 'warm', 'same'] \n",
            "\n",
            "\n",
            "Instance  2 is ['sunny', 'warm', 'high', 'strong', 'warm', 'same', 'yes']  and is Positive Instance\n",
            "The hypothesis for the training instance 2  is:  ['sunny', 'warm', '?', 'strong', 'warm', 'same'] \n",
            "\n",
            "\n",
            "Instance  3 is ['rainy', 'cold', 'high', 'strong', 'warm', 'change', 'no']  and is Negative Instance Hence Ignored\n",
            "The hypothesis for the training instance 3  is:  ['sunny', 'warm', '?', 'strong', 'warm', 'same'] \n",
            "\n",
            "\n",
            "Instance  4 is ['sunny', 'warm', 'high', 'strong', 'cool', 'change', 'yes']  and is Positive Instance\n",
            "The hypothesis for the training instance 4  is:  ['sunny', 'warm', '?', 'strong', '?', '?'] \n",
            "\n",
            "\n",
            "The Maximally specific hypothesis for the training instance is  ['sunny', 'warm', '?', 'strong', '?', '?']\n"
          ]
        }
      ],
      "source": [
        "import csv\n",
        "a = []\n",
        "with open('/content/enjoysport (1).csv', 'r') as csvfile:\n",
        "    next(csvfile)\n",
        "    for row in csv.reader(csvfile):\n",
        "        a.append(row)\n",
        "    print(a)\n",
        "\n",
        "print(\"\\nThe total number of training instances are : \",len(a))\n",
        "\n",
        "num_attribute = len(a[0])-1\n",
        "\n",
        "print(\"\\nThe initial hypothesis is : \")\n",
        "hypothesis = ['0']*num_attribute\n",
        "print(hypothesis)\n",
        "\n",
        "for i in range(0, len(a)):\n",
        "    if a[i][num_attribute] == 'yes':\n",
        "        print (\"\\nInstance \", i+1, \"is\", a[i], \" and is Positive Instance\")\n",
        "        for j in range(0, num_attribute):\n",
        "            if hypothesis[j] == '0' or hypothesis[j] == a[i][j]:\n",
        "                hypothesis[j] = a[i][j]\n",
        "            else:\n",
        "                hypothesis[j] = '?'\n",
        "        print(\"The hypothesis for the training instance\", i+1, \" is: \" , hypothesis, \"\\n\")\n",
        "\n",
        "    if a[i][num_attribute] == 'no':\n",
        "        print (\"\\nInstance \", i+1, \"is\", a[i], \" and is Negative Instance Hence Ignored\")\n",
        "        print(\"The hypothesis for the training instance\", i+1, \" is: \" , hypothesis, \"\\n\")\n",
        "\n",
        "print(\"\\nThe Maximally specific hypothesis for the training instance is \", hypothesis)"
      ]
    }
  ]
}